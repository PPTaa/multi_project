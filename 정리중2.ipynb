{
 "cells": [
  {
   "cell_type": "markdown",
   "metadata": {},
   "source": [
    "# 필요 package"
   ]
  },
  {
   "cell_type": "code",
   "execution_count": null,
   "metadata": {},
   "outputs": [],
   "source": [
    "from sklearn import linear_model\n",
    "from sklearn.metrics import mean_squared_error\n",
    "import numpy as np\n",
    "import pandas as pd\n",
    "import matplotlib\n",
    "import matplotlib.pyplot as plt\n",
    "%matplotlib inline\n",
    "matplotlib.style.use('ggplot')\n",
    "\n",
    "import os\n",
    "import warnings\n",
    "warnings.filterwarnings(action='ignore')\n",
    "\n",
    "pd.set_option('display.max_columns', 500)\n",
    "pd.set_option('display.max_rows', 100)\n",
    "pd.set_option('display.max_colwidth', 1000)\n",
    "pd.set_option('display.width', 1000)\n",
    "\n",
    "from selenium import webdriver as wd\n",
    "import time\n",
    "from bs4 import BeautifulSoup\n",
    "import requests\n",
    "import re\n",
    "\n",
    "from sklearn.ensemble import RandomForestRegressor\n",
    "from sklearn.model_selection import train_test_split\n",
    "from sklearn.metrics import classification_report, confusion_matrix\n",
    "from sklearn.ensemble import GradientBoostingRegressor\n",
    "\n",
    "import geopy.distance\n"
   ]
  },
  {
   "cell_type": "markdown",
   "metadata": {},
   "source": [
    "# 크롤링 코드"
   ]
  },
  {
   "cell_type": "code",
   "execution_count": null,
   "metadata": {},
   "outputs": [],
   "source": [
    "browser = wd.Chrome(\"../../software/chromedriver.exe\")\n",
    "browser.get(\"https://www.airport.co.kr/jeju/extra/flightSchedule/flightDomesticList/layOut.do?cid=2015120718125215729&menuId=653\")\n",
    "\n",
    "element = browser.find_element_by_xpath('//*[@id=\"selType\"]')\n",
    "element.click()\n",
    "\n",
    "element = browser.find_element_by_xpath('//*[@id=\"selType\"]/option[2]')\n",
    "element.click()\n",
    "\n",
    "element = browser.find_element_by_xpath('//*[@id=\"findDate\"]')\n",
    "element.clear()\n",
    "element.send_keys(\"2019-10-27\")\n",
    "\n",
    "element = browser.find_element_by_xpath('//*[@id=\"customer_container\"]/div[2]/form/div/div[2]/button')\n",
    "element.click()\n",
    "\n",
    "air_head = []\n",
    "\n",
    "element = browser.find_element_by_xpath('//*[@id=\"customer_container\"]/div[3]/table/thead')\n",
    "\n",
    "for i in range(1, 264):\n",
    "    temp = []\n",
    "    for j in range(1, 9):  \n",
    "        element = browser.find_element_by_xpath('//*[@id=\"customer_container\"]/div[3]/table/tbody[1]/tr[{0}]/td[{1}]'.format(i, j))\n",
    "        temp.append(element.text)\n",
    "    air_content.append(temp)\n",
    "    \n",
    "for i in range(1, 272):\n",
    "    temp = []\n",
    "    for j in range(1, 9):  \n",
    "        element = browser.find_element_by_xpath('//*[@id=\"customer_container\"]/div[4]/table/tbody[1]/tr[{0}]/td[{1}]'.format(i, j))\n",
    "        temp.append(element.text)\n",
    "    air_content.append(temp)\n",
    "    \n",
    "test = pd.DataFrame(data = air_content, columns = air_head)\n",
    "\n",
    "test[\"제주 관련 시간\"] = 0\n",
    "test[\"제주 시간 관련\"] = 0\n",
    "\n",
    "for i in range(len(test)):\n",
    "    if test[\"출발지\"][i] == \"제주\":\n",
    "        test[\"제주 관련 시간\"][i] = test[\"출발시간\"][i]\n",
    "    else:\n",
    "        test[\"제주 관련 시간\"][i] = test[\"도착시간\"][i]\n",
    "        \n",
    "test.drop(\"편명\", axis = 1, inplace = True)\n",
    "\n",
    "test.to_csv(\"../data/result_air.csv\")"
   ]
  },
  {
   "cell_type": "markdown",
   "metadata": {},
   "source": [
    "# 데이터 불러오기"
   ]
  },
  {
   "cell_type": "code",
   "execution_count": 2,
   "metadata": {},
   "outputs": [],
   "source": [
    "# 데이터 불러오기\n",
    "bus_df = pd.read_csv(\"bus_train_data.csv\")\n",
    "weather_df = pd.read_csv(\"jeju_weather.csv\")\n",
    "air_df = pd.read_csv(\"result_air.csv\")"
   ]
  },
  {
   "cell_type": "code",
   "execution_count": 3,
   "metadata": {},
   "outputs": [],
   "source": [
    "weather_df[\"date\"] = \"date\""
   ]
  },
  {
   "cell_type": "code",
   "execution_count": 4,
   "metadata": {
    "scrolled": true
   },
   "outputs": [],
   "source": [
    "for i in range(len(weather_df[\"date_group\"])):\n",
    "    weather_df[\"date\"][i] = weather_df[\"date_group\"][i].replace(\"일\", \"\")\n",
    "    weather_df[\"date\"][i] = \"2019-10-{0}\".format(weather_df[\"date\"][i])\n",
    "    \n",
    "weather_df = weather_df.rename(columns = {\"time_group\" : \"now_arrive_time\"})\n",
    "weather_df = weather_df.drop(weather_df.columns[[0,2,5,7,8,9,10,11]],  axis = 1)\n",
    "\n",
    "bus_weather_df = pd.merge(bus_df, weather_df)"
   ]
  },
  {
   "cell_type": "code",
   "execution_count": 5,
   "metadata": {},
   "outputs": [],
   "source": [
    "temp = air_df.groupby([\"날짜\", \"시간\"]).count()\n",
    "temp = pd.DataFrame(temp[\"항공사\"].unstack())\n",
    "\n",
    "data_list = []\n",
    "\n",
    "for i in range(len(temp.index)):\n",
    "    for j in range(len(temp.columns)):\n",
    "        data_list.append([temp.index[i],temp.columns[j], temp.iloc[i][j]])\n",
    "        \n",
    "air_df = pd.DataFrame(data_list)\n",
    "\n",
    "air_df.columns = [\"date\", \"now_arrive_time\", \"count_air\"]\n",
    "\n",
    "df = pd.merge(bus_weather_df, air_df)\n",
    "\n",
    "train = df"
   ]
  },
  {
   "cell_type": "markdown",
   "metadata": {},
   "source": [
    "# 데이터 전처리"
   ]
  },
  {
   "cell_type": "code",
   "execution_count": 6,
   "metadata": {},
   "outputs": [],
   "source": [
    "# 날짜 전처리\n",
    "train['date_group']='weekday' #date_group 변수를 미리 생성\n",
    "\n",
    "train.loc[ (train['date'] == '2019-10-19') | (train['date'] == '2019-10-20') | (train['date'] == '2019-10-26') | (train['date'] == '2019-10-27') ,['date_group'] ]= 'weekend' # 주말\n",
    "train = pd.get_dummies(train,columns=['date_group'])\n",
    "\n",
    "# 19, 20, 26, 27"
   ]
  },
  {
   "cell_type": "code",
   "execution_count": 7,
   "metadata": {},
   "outputs": [],
   "source": [
    "train[\"date_day\"] = \"monday\"\n",
    "train.loc[(train[\"date\"] == \"2019-10-15\") | (train[\"date\"] == \"2019-10-22\"), [\"date_day\"]] = \"Tuesday\"\n",
    "train.loc[(train[\"date\"] == \"2019-10-16\") | (train[\"date\"] == \"2019-10-23\"), [\"date_day\"]] = \"Wednesday\"\n",
    "train.loc[(train[\"date\"] == \"2019-10-17\") | (train[\"date\"] == \"2019-10-24\"), [\"date_day\"]] = \"Thurday\"\n",
    "train.loc[(train[\"date\"] == \"2019-10-18\") | (train[\"date\"] == \"2019-10-25\"), [\"date_day\"]] = \"Friday\"\n",
    "train.loc[(train[\"date\"] == \"2019-10-19\") | (train[\"date\"] == \"2019-10-26\"), [\"date_day\"]] = \"Saturday\"\n",
    "train.loc[(train[\"date\"] == \"2019-10-20\") | (train[\"date\"] == \"2019-10-27\"), [\"date_day\"]] = \"Sunday\"\n",
    "\n",
    "train = pd.get_dummies(train, columns=[\"date_day\"])"
   ]
  },
  {
   "cell_type": "code",
   "execution_count": 8,
   "metadata": {},
   "outputs": [],
   "source": [
    "# 강수량 전처리\n",
    "train['rain']=0\n",
    "train.loc[ (train['누적강수량(mm)']!=0) ,['rain'] ] = 1"
   ]
  },
  {
   "cell_type": "code",
   "execution_count": 9,
   "metadata": {},
   "outputs": [],
   "source": [
    "# 시간 전처리\n",
    "train['time_group']='group' #time_group 변수를 미리 생성\n",
    "\n",
    "train.loc[ (train['now_arrive_time']>='05시') & (train['now_arrive_time']<='06시') ,['time_group'] ]= 'dawn' # 05~06시\n",
    "train.loc[ (train['now_arrive_time']>='07시') & (train['now_arrive_time']<='08시') ,['time_group'] ]= 'morning' #07~08시\n",
    "train.loc[ (train['now_arrive_time']>='09시') & (train['now_arrive_time']<='17시') ,['time_group'] ]= 'afternoon' #09~17시\n",
    "train.loc[ (train['now_arrive_time']=='18시') ,['time_group'] ]= 'dinner' #18시\n",
    "train.loc[ (train['now_arrive_time']>='19시') & (train['now_arrive_time']<='22시') ,['time_group'] ]= 'night' #09~17시\n",
    "\n",
    "train = pd.get_dummies(train,columns=['time_group'])"
   ]
  },
  {
   "cell_type": "code",
   "execution_count": 10,
   "metadata": {},
   "outputs": [],
   "source": [
    "# 풍속\n",
    "w = pd.DataFrame(train['풍속(m/s)'].groupby([train['date'],train['now_arrive_time']]).mean())\n",
    "train['wind'] = 0\n",
    "train.loc[(train['풍속(m/s)'] > w.mean()[0]) ,['wind']] = 1"
   ]
  },
  {
   "cell_type": "code",
   "execution_count": 11,
   "metadata": {},
   "outputs": [],
   "source": [
    "temp_list = []\n",
    "train = train.drop(train[train[\"next_arrive_time\"] > 1000].index)\n",
    "max = train.distance.max()\n",
    "min = train.distance.min()\n",
    "\n",
    "for i in train.distance:\n",
    "    temp_list.append((i - min) / (max - min))\n",
    "train.distance = temp_list"
   ]
  },
  {
   "cell_type": "code",
   "execution_count": 12,
   "metadata": {},
   "outputs": [],
   "source": [
    "temp_list = []\n",
    "\n",
    "max = train.count_air.max()\n",
    "min = train.count_air.min()\n",
    "\n",
    "for i in train.count_air:\n",
    "    temp_list.append((i - min) / (max - min))\n",
    "train.count_air = temp_list"
   ]
  },
  {
   "cell_type": "code",
   "execution_count": null,
   "metadata": {},
   "outputs": [],
   "source": []
  },
  {
   "cell_type": "code",
   "execution_count": 13,
   "metadata": {},
   "outputs": [],
   "source": [
    "train = train.drop(train[[\"누적강수량(mm)\", \"풍속(m/s)\"]], axis = \"columns\")"
   ]
  },
  {
   "cell_type": "code",
   "execution_count": 14,
   "metadata": {},
   "outputs": [],
   "source": [
    "train['distance_line']=[ geopy.distance.vincenty( (i,j), (k,l) ).km \n",
    " for i,j,k,l in list( zip( train['now_latitude'],train['now_longitude'],train['next_latitude'],train['next_longitude'] ) ) ]"
   ]
  },
  {
   "cell_type": "code",
   "execution_count": 15,
   "metadata": {
    "scrolled": true
   },
   "outputs": [
    {
     "data": {
      "text/plain": [
       "1"
      ]
     },
     "execution_count": 15,
     "metadata": {},
     "output_type": "execute_result"
    }
   ],
   "source": [
    "train.wind.max()"
   ]
  },
  {
   "cell_type": "markdown",
   "metadata": {},
   "source": [
    "# 데이터 학습 및 예측"
   ]
  },
  {
   "cell_type": "code",
   "execution_count": 16,
   "metadata": {},
   "outputs": [],
   "source": [
    "train_x = train.drop(train[[\"id\", \"date\",\"route_id\", \"vh_id\", \"route_nm\", \"now_latitude\", \"now_longitude\", \"now_station\", \"now_arrive_time\", \"next_station\", \"next_arrive_time\", \"next_latitude\", \"next_longitude\", \"기온(°C)\", \"wind\"]], axis = \"columns\")\n",
    "train_y = train.next_arrive_time"
   ]
  },
  {
   "cell_type": "code",
   "execution_count": 17,
   "metadata": {},
   "outputs": [],
   "source": [
    "X_train, X_test, y_train, y_test = train_test_split(train_x, train_y, test_size=0.2, random_state=42)"
   ]
  },
  {
   "cell_type": "code",
   "execution_count": 18,
   "metadata": {
    "scrolled": true
   },
   "outputs": [
    {
     "name": "stdout",
     "output_type": "stream",
     "text": [
      "39.998470367354365\n"
     ]
    }
   ],
   "source": [
    "rf = RandomForestRegressor(random_state=1217)\n",
    "rf.fit(X_train,y_train)\n",
    "result = 0\n",
    "predict = rf.predict(X_test)\n",
    "print((mean_squared_error(predict, y_test))**0.5)"
   ]
  },
  {
   "cell_type": "code",
   "execution_count": 19,
   "metadata": {},
   "outputs": [
    {
     "data": {
      "image/png": "[encoded data removed]",
      "text/plain": [
       "<Figure size 432x288 with 1 Axes>"
      ]
     },
     "metadata": {
      "needs_background": "light"
     },
     "output_type": "display_data"
    }
   ],
   "source": [
    "n_feature = train_x.shape[1] #주어진 변수들의 갯수를 구함\n",
    "index = np.arange(n_feature)\n",
    "\n",
    "input_var= list( train_x.columns[:] )\n",
    "plt.barh(index, rf.feature_importances_, align='center') \n",
    "plt.yticks(index, input_var)\n",
    "plt.ylim(-1, n_feature)\n",
    "plt.xlabel('feature importance', size=15)\n",
    "plt.ylabel('feature', size=15)\n",
    "plt.show()"
   ]
  },
  {
   "cell_type": "code",
   "execution_count": null,
   "metadata": {},
   "outputs": [],
   "source": []
  },
  {
   "cell_type": "code",
   "execution_count": 20,
   "metadata": {
    "scrolled": true
   },
   "outputs": [
    {
     "name": "stdout",
     "output_type": "stream",
     "text": [
      "63.658183968794496\n",
      "61.48092269229117\n",
      "59.7313644758964\n",
      "58.15074867555895\n",
      "56.83152189798721\n",
      "55.80157641955649\n",
      "54.83944455639485\n",
      "53.98722673860451\n",
      "53.26241912710919\n",
      "52.62191974609212\n",
      "52.13138120178521\n",
      "51.67485582874618\n",
      "51.26659597467779\n",
      "50.92483572544208\n",
      "50.652549447332746\n",
      "50.39312384530687\n",
      "50.1785078848625\n",
      "49.95460089184687\n",
      "49.768114662343905\n",
      "49.58723937532193\n",
      "49.4009071468426\n",
      "49.221498334672695\n",
      "49.11845002474909\n",
      "48.927459174332874\n",
      "48.84587557579734\n",
      "48.714101872924246\n",
      "48.60830239316496\n",
      "48.22284356809153\n",
      "48.14703326822489\n",
      "47.845074310992096\n",
      "47.696757314288284\n",
      "47.65729312935969\n",
      "47.434982892785285\n",
      "47.32727633516333\n",
      "47.305725327414414\n",
      "47.19860419053541\n",
      "46.93766738873419\n",
      "46.868693231308846\n",
      "46.8066182557691\n",
      "46.708884058301635\n",
      "46.626878341427044\n",
      "46.609838686363666\n",
      "46.51243866688832\n",
      "46.44228201727367\n",
      "46.428688518570205\n",
      "46.41445298843681\n",
      "46.33954883323209\n",
      "46.22333972646336\n",
      "46.10015945931746\n",
      "46.03158816576641\n",
      "45.983277253008225\n",
      "45.97391004554395\n",
      "45.87289154510794\n",
      "45.67858823165494\n",
      "45.65496505575805\n",
      "45.48946535481893\n",
      "45.480041776301846\n",
      "45.4438195338246\n",
      "45.3726516854866\n",
      "45.28975390444444\n",
      "45.283573228852575\n",
      "45.192601062370684\n",
      "45.05055736527453\n",
      "45.030487275833444\n",
      "44.989261171573794\n",
      "44.95226891232609\n",
      "44.883568684098634\n",
      "44.8193857681687\n",
      "44.787102037399016\n",
      "44.73718228301621\n",
      "44.69834726642685\n",
      "44.689917810585015\n",
      "44.60340484024919\n",
      "44.550319341561845\n",
      "44.479561316551646\n",
      "44.42846388088714\n",
      "44.41009408131588\n",
      "44.33329872608137\n",
      "44.30001853110929\n",
      "44.253216246878615\n",
      "44.215900484406255\n",
      "44.19251639481588\n",
      "44.11093030251149\n",
      "44.06133628829533\n",
      "44.00146407718243\n",
      "43.97041301865004\n",
      "43.96420497514776\n",
      "43.911146237828326\n",
      "43.89422150088297\n",
      "43.868907162498054\n",
      "43.8488550379758\n",
      "43.779237552476644\n",
      "43.73847277285437\n",
      "43.72332628507593\n",
      "43.627799511565684\n",
      "43.58958445471052\n",
      "43.50280928073357\n",
      "43.451728108220735\n",
      "43.4435246073014\n",
      "43.396022280774396\n",
      "43.37880711854685\n",
      "43.31743440262135\n",
      "43.260610472177014\n",
      "43.2088461531147\n",
      "43.20041921663954\n",
      "43.12933730191588\n",
      "43.100401831790386\n",
      "43.06179335265718\n",
      "43.039550782636724\n",
      "43.02715124950562\n",
      "43.01670336334757\n",
      "43.00208052365926\n",
      "42.97926715588656\n",
      "42.93581537290565\n",
      "42.901405315601046\n",
      "42.88880857088053\n",
      "42.87521037271747\n",
      "42.86972540722764\n",
      "42.830575343183256\n",
      "42.79061613238332\n",
      "42.73293730881811\n",
      "42.67320029300252\n",
      "42.64559267863351\n",
      "42.59801744183651\n",
      "42.5576454358754\n",
      "42.53275632420528\n",
      "42.4841274486211\n",
      "42.4793600074252\n",
      "42.466845117236794\n",
      "42.44617041522951\n",
      "42.41909140299005\n",
      "42.409430822201934\n",
      "42.38709299997034\n",
      "42.371968132893656\n",
      "42.324697877292444\n",
      "42.27370003715263\n",
      "42.258551462681254\n",
      "42.2092201490652\n",
      "42.191830042846185\n",
      "42.18940085210584\n",
      "42.13939093498402\n",
      "42.135135292170794\n",
      "42.11008650917793\n",
      "42.099423328393605\n",
      "42.095576073916014\n",
      "42.062283911682584\n",
      "42.03003896739197\n",
      "41.98654866375921\n",
      "41.932386085893384\n",
      "41.886992733014466\n",
      "41.86163637078375\n",
      "41.823298323492715\n",
      "41.792065178976394\n",
      "41.766068185344636\n",
      "41.666468876155676\n",
      "41.65090101287431\n",
      "41.64346872867087\n",
      "41.618405611553904\n",
      "41.57759662331479\n",
      "41.568345375130384\n",
      "41.554287280102066\n",
      "41.54598210907388\n",
      "41.53276343267377\n",
      "41.511620385012755\n",
      "41.48276474539536\n",
      "41.449360413764786\n",
      "41.41327151827547\n",
      "41.38929172686911\n",
      "41.36989148323515\n",
      "41.31291410023027\n",
      "41.30342007407494\n",
      "41.228226282048375\n",
      "41.195338126254\n",
      "41.176540961136915\n",
      "41.14694861995158\n",
      "41.13607301881308\n",
      "41.11687568270013\n",
      "41.08528140118043\n",
      "41.078765237805676\n",
      "41.07079677835674\n",
      "41.05536203273458\n",
      "41.04075126062259\n",
      "41.0090101182305\n",
      "41.002768109921654\n",
      "40.99122364023362\n",
      "40.983425954073\n",
      "40.96159809803774\n",
      "40.92951523112459\n",
      "40.905767121946845\n",
      "40.877048033570134\n",
      "40.867437060718125\n",
      "40.825081265080215\n",
      "40.81320927300331\n",
      "40.81091068789103\n",
      "40.76308352122962\n",
      "40.74602539053694\n",
      "40.730716081618816\n",
      "40.69400310594619\n",
      "40.66720813039559\n",
      "40.64937682838173\n",
      "40.61719874918736\n",
      "40.60786615449083\n",
      "40.60550439758165\n",
      "40.56773026140762\n",
      "40.542835690144145\n",
      "40.50476821348202\n",
      "40.49688581940873\n",
      "40.47436128481294\n",
      "40.45137812639035\n",
      "40.44457671297348\n",
      "40.41681181016385\n",
      "40.40195458747828\n",
      "40.377903551829434\n",
      "40.34026849811332\n",
      "40.32656892963103\n",
      "40.322762672967364\n",
      "40.314139195213386\n",
      "40.283897544279135\n",
      "40.27067726093221\n",
      "40.25224703862527\n",
      "40.22150396758859\n",
      "40.209954668910775\n",
      "40.18841552001401\n",
      "40.159177974499116\n",
      "40.14172853124122\n",
      "40.129825630861625\n",
      "40.0720446501105\n",
      "40.05717164507664\n",
      "40.03404635482333\n",
      "40.02505575535635\n",
      "39.99711863300074\n",
      "39.993797656177094\n",
      "39.9895466748416\n",
      "39.971407571208424\n",
      "39.94442165601086\n",
      "39.918598206469696\n",
      "39.901395764011035\n",
      "39.887169934998745\n",
      "39.86677703935768\n",
      "39.85962269066086\n",
      "39.85331650160268\n",
      "39.83508151333466\n",
      "39.811816301769646\n",
      "39.8043370479505\n",
      "39.790214133012185\n",
      "39.78818932349302\n",
      "39.77861489706788\n",
      "39.77650156195285\n",
      "39.75363141453091\n",
      "39.74662479818242\n",
      "39.74059464400211\n",
      "39.729922896213495\n"
     ]
    },
    {
     "ename": "KeyboardInterrupt",
     "evalue": "",
     "output_type": "error",
     "traceback": [
      "\u001b[1;31m---------------------------------------------------------------------------\u001b[0m",
      "\u001b[1;31mKeyboardInterrupt\u001b[0m                         Traceback (most recent call last)",
      "\u001b[1;32m<ipython-input-20-259fb6d69c9f>\u001b[0m in \u001b[0;36m<module>\u001b[1;34m\u001b[0m\n\u001b[0;32m      5\u001b[0m \u001b[1;32mfor\u001b[0m \u001b[0mn_estimators\u001b[0m \u001b[1;32min\u001b[0m \u001b[0mrange\u001b[0m\u001b[1;33m(\u001b[0m\u001b[1;36m1\u001b[0m\u001b[1;33m,\u001b[0m \u001b[1;36m300\u001b[0m\u001b[1;33m)\u001b[0m\u001b[1;33m:\u001b[0m\u001b[1;33m\u001b[0m\u001b[1;33m\u001b[0m\u001b[0m\n\u001b[0;32m      6\u001b[0m     \u001b[0mgbrt\u001b[0m\u001b[1;33m.\u001b[0m\u001b[0mn_estimators\u001b[0m \u001b[1;33m=\u001b[0m \u001b[0mn_estimators\u001b[0m\u001b[1;33m\u001b[0m\u001b[1;33m\u001b[0m\u001b[0m\n\u001b[1;32m----> 7\u001b[1;33m     \u001b[0mgbrt\u001b[0m\u001b[1;33m.\u001b[0m\u001b[0mfit\u001b[0m\u001b[1;33m(\u001b[0m\u001b[0mX_train\u001b[0m\u001b[1;33m,\u001b[0m \u001b[0my_train\u001b[0m\u001b[1;33m)\u001b[0m\u001b[1;33m\u001b[0m\u001b[1;33m\u001b[0m\u001b[0m\n\u001b[0m\u001b[0;32m      8\u001b[0m     \u001b[0my_pred\u001b[0m \u001b[1;33m=\u001b[0m \u001b[0mgbrt\u001b[0m\u001b[1;33m.\u001b[0m\u001b[0mpredict\u001b[0m\u001b[1;33m(\u001b[0m\u001b[0mX_test\u001b[0m\u001b[1;33m)\u001b[0m\u001b[1;33m\u001b[0m\u001b[1;33m\u001b[0m\u001b[0m\n\u001b[0;32m      9\u001b[0m     \u001b[0mval_error\u001b[0m \u001b[1;33m=\u001b[0m \u001b[0mmean_squared_error\u001b[0m\u001b[1;33m(\u001b[0m\u001b[0my_test\u001b[0m\u001b[1;33m,\u001b[0m \u001b[0my_pred\u001b[0m\u001b[1;33m)\u001b[0m\u001b[1;33m\u001b[0m\u001b[1;33m\u001b[0m\u001b[0m\n",
      "\u001b[1;32mC:\\ai\\python\\anaconda3\\lib\\site-packages\\sklearn\\ensemble\\gradient_boosting.py\u001b[0m in \u001b[0;36mfit\u001b[1;34m(self, X, y, sample_weight, monitor)\u001b[0m\n\u001b[0;32m   1463\u001b[0m         n_stages = self._fit_stages(X, y, y_pred, sample_weight, self._rng,\n\u001b[0;32m   1464\u001b[0m                                     \u001b[0mX_val\u001b[0m\u001b[1;33m,\u001b[0m \u001b[0my_val\u001b[0m\u001b[1;33m,\u001b[0m \u001b[0msample_weight_val\u001b[0m\u001b[1;33m,\u001b[0m\u001b[1;33m\u001b[0m\u001b[1;33m\u001b[0m\u001b[0m\n\u001b[1;32m-> 1465\u001b[1;33m                                     begin_at_stage, monitor, X_idx_sorted)\n\u001b[0m\u001b[0;32m   1466\u001b[0m \u001b[1;33m\u001b[0m\u001b[0m\n\u001b[0;32m   1467\u001b[0m         \u001b[1;31m# change shape of arrays after fit (early-stopping or additional ests)\u001b[0m\u001b[1;33m\u001b[0m\u001b[1;33m\u001b[0m\u001b[1;33m\u001b[0m\u001b[0m\n",
      "\u001b[1;32mC:\\ai\\python\\anaconda3\\lib\\site-packages\\sklearn\\ensemble\\gradient_boosting.py\u001b[0m in \u001b[0;36m_fit_stages\u001b[1;34m(self, X, y, y_pred, sample_weight, random_state, X_val, y_val, sample_weight_val, begin_at_stage, monitor, X_idx_sorted)\u001b[0m\n\u001b[0;32m   1527\u001b[0m             y_pred = self._fit_stage(i, X, y, y_pred, sample_weight,\n\u001b[0;32m   1528\u001b[0m                                      \u001b[0msample_mask\u001b[0m\u001b[1;33m,\u001b[0m \u001b[0mrandom_state\u001b[0m\u001b[1;33m,\u001b[0m \u001b[0mX_idx_sorted\u001b[0m\u001b[1;33m,\u001b[0m\u001b[1;33m\u001b[0m\u001b[1;33m\u001b[0m\u001b[0m\n\u001b[1;32m-> 1529\u001b[1;33m                                      X_csc, X_csr)\n\u001b[0m\u001b[0;32m   1530\u001b[0m \u001b[1;33m\u001b[0m\u001b[0m\n\u001b[0;32m   1531\u001b[0m             \u001b[1;31m# track deviance (= loss)\u001b[0m\u001b[1;33m\u001b[0m\u001b[1;33m\u001b[0m\u001b[1;33m\u001b[0m\u001b[0m\n",
      "\u001b[1;32mC:\\ai\\python\\anaconda3\\lib\\site-packages\\sklearn\\ensemble\\gradient_boosting.py\u001b[0m in \u001b[0;36m_fit_stage\u001b[1;34m(self, i, X, y, y_pred, sample_weight, sample_mask, random_state, X_idx_sorted, X_csc, X_csr)\u001b[0m\n\u001b[0;32m   1192\u001b[0m             \u001b[0mX\u001b[0m \u001b[1;33m=\u001b[0m \u001b[0mX_csr\u001b[0m \u001b[1;32mif\u001b[0m \u001b[0mX_csr\u001b[0m \u001b[1;32mis\u001b[0m \u001b[1;32mnot\u001b[0m \u001b[1;32mNone\u001b[0m \u001b[1;32melse\u001b[0m \u001b[0mX\u001b[0m\u001b[1;33m\u001b[0m\u001b[1;33m\u001b[0m\u001b[0m\n\u001b[0;32m   1193\u001b[0m             tree.fit(X, residual, sample_weight=sample_weight,\n\u001b[1;32m-> 1194\u001b[1;33m                      check_input=False, X_idx_sorted=X_idx_sorted)\n\u001b[0m\u001b[0;32m   1195\u001b[0m \u001b[1;33m\u001b[0m\u001b[0m\n\u001b[0;32m   1196\u001b[0m             \u001b[1;31m# update tree leaves\u001b[0m\u001b[1;33m\u001b[0m\u001b[1;33m\u001b[0m\u001b[1;33m\u001b[0m\u001b[0m\n",
      "\u001b[1;32mC:\\ai\\python\\anaconda3\\lib\\site-packages\\sklearn\\tree\\tree.py\u001b[0m in \u001b[0;36mfit\u001b[1;34m(self, X, y, sample_weight, check_input, X_idx_sorted)\u001b[0m\n\u001b[0;32m   1140\u001b[0m             \u001b[0msample_weight\u001b[0m\u001b[1;33m=\u001b[0m\u001b[0msample_weight\u001b[0m\u001b[1;33m,\u001b[0m\u001b[1;33m\u001b[0m\u001b[1;33m\u001b[0m\u001b[0m\n\u001b[0;32m   1141\u001b[0m             \u001b[0mcheck_input\u001b[0m\u001b[1;33m=\u001b[0m\u001b[0mcheck_input\u001b[0m\u001b[1;33m,\u001b[0m\u001b[1;33m\u001b[0m\u001b[1;33m\u001b[0m\u001b[0m\n\u001b[1;32m-> 1142\u001b[1;33m             X_idx_sorted=X_idx_sorted)\n\u001b[0m\u001b[0;32m   1143\u001b[0m         \u001b[1;32mreturn\u001b[0m \u001b[0mself\u001b[0m\u001b[1;33m\u001b[0m\u001b[1;33m\u001b[0m\u001b[0m\n\u001b[0;32m   1144\u001b[0m \u001b[1;33m\u001b[0m\u001b[0m\n",
      "\u001b[1;32mC:\\ai\\python\\anaconda3\\lib\\site-packages\\sklearn\\tree\\tree.py\u001b[0m in \u001b[0;36mfit\u001b[1;34m(self, X, y, sample_weight, check_input, X_idx_sorted)\u001b[0m\n\u001b[0;32m    364\u001b[0m                                            min_impurity_split)\n\u001b[0;32m    365\u001b[0m \u001b[1;33m\u001b[0m\u001b[0m\n\u001b[1;32m--> 366\u001b[1;33m         \u001b[0mbuilder\u001b[0m\u001b[1;33m.\u001b[0m\u001b[0mbuild\u001b[0m\u001b[1;33m(\u001b[0m\u001b[0mself\u001b[0m\u001b[1;33m.\u001b[0m\u001b[0mtree_\u001b[0m\u001b[1;33m,\u001b[0m \u001b[0mX\u001b[0m\u001b[1;33m,\u001b[0m \u001b[0my\u001b[0m\u001b[1;33m,\u001b[0m \u001b[0msample_weight\u001b[0m\u001b[1;33m,\u001b[0m \u001b[0mX_idx_sorted\u001b[0m\u001b[1;33m)\u001b[0m\u001b[1;33m\u001b[0m\u001b[1;33m\u001b[0m\u001b[0m\n\u001b[0m\u001b[0;32m    367\u001b[0m \u001b[1;33m\u001b[0m\u001b[0m\n\u001b[0;32m    368\u001b[0m         \u001b[1;32mif\u001b[0m \u001b[0mself\u001b[0m\u001b[1;33m.\u001b[0m\u001b[0mn_outputs_\u001b[0m \u001b[1;33m==\u001b[0m \u001b[1;36m1\u001b[0m\u001b[1;33m:\u001b[0m\u001b[1;33m\u001b[0m\u001b[1;33m\u001b[0m\u001b[0m\n",
      "\u001b[1;31mKeyboardInterrupt\u001b[0m: "
     ]
    }
   ],
   "source": [
    "gbrt = GradientBoostingRegressor(max_depth=3, warm_start=True, random_state=42)\n",
    "\n",
    "min_val_error = float(\"inf\")\n",
    "error_going_up = 0\n",
    "for n_estimators in range(1, 300):\n",
    "    gbrt.n_estimators = n_estimators\n",
    "    gbrt.fit(X_train, y_train)\n",
    "    y_pred = gbrt.predict(X_test)\n",
    "    val_error = mean_squared_error(y_test, y_pred)\n",
    "    print((val_error)**0.5)\n",
    "    if val_error < min_val_error:\n",
    "        min_val_error = val_error\n",
    "        error_going_up = 0\n",
    "    else:\n",
    "        error_going_up += 1\n",
    "        if error_going_up == 5:\n",
    "            break  # 조기 종료"
   ]
  },
  {
   "cell_type": "code",
   "execution_count": 287,
   "metadata": {},
   "outputs": [
    {
     "name": "stdout",
     "output_type": "stream",
     "text": [
      "63.38967549367167\n"
     ]
    }
   ],
   "source": []
  },
  {
   "cell_type": "code",
   "execution_count": null,
   "metadata": {},
   "outputs": [],
   "source": []
  },
  {
   "cell_type": "code",
   "execution_count": null,
   "metadata": {},
   "outputs": [],
   "source": []
  },
  {
   "cell_type": "code",
   "execution_count": null,
   "metadata": {},
   "outputs": [],
   "source": []
  },
  {
   "cell_type": "code",
   "execution_count": null,
   "metadata": {},
   "outputs": [],
   "source": []
  }
 ],
 "metadata": {
  "kernelspec": {
   "display_name": "Python 3",
   "language": "python",
   "name": "python3"
  },
  "language_info": {
   "codemirror_mode": {
    "name": "ipython",
    "version": 3
   },
   "file_extension": ".py",
   "mimetype": "text/x-python",
   "name": "python",
   "nbconvert_exporter": "python",
   "pygments_lexer": "ipython3",
   "version": "3.7.3"
  }
 },
 "nbformat": 4,
 "nbformat_minor": 2
}
