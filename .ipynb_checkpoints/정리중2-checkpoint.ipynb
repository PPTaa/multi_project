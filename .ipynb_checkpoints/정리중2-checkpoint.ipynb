{
 "cells": [
  {
   "cell_type": "markdown",
   "metadata": {},
   "source": [
    "# 필요 package"
   ]
  },
  {
   "cell_type": "code",
   "execution_count": 1,
   "metadata": {},
   "outputs": [],
   "source": [
    "from sklearn import linear_model\n",
    "from sklearn.metrics import mean_squared_error\n",
    "import numpy as np\n",
    "import pandas as pd\n",
    "import matplotlib\n",
    "import matplotlib.pyplot as plt\n",
    "%matplotlib inline\n",
    "matplotlib.style.use('ggplot')\n",
    "\n",
    "import os\n",
    "import warnings\n",
    "warnings.filterwarnings(action='ignore')\n",
    "\n",
    "pd.set_option('display.max_columns', 500)\n",
    "pd.set_option('display.max_rows', 100)\n",
    "pd.set_option('display.max_colwidth', 1000)\n",
    "pd.set_option('display.width', 1000)\n",
    "\n",
    "from selenium import webdriver as wd\n",
    "import time\n",
    "from bs4 import BeautifulSoup\n",
    "import requests\n",
    "import re\n",
    "\n",
    "from sklearn.ensemble import RandomForestRegressor\n",
    "from sklearn.model_selection import train_test_split\n",
    "from sklearn.metrics import classification_report, confusion_matrix\n",
    "from sklearn.ensemble import GradientBoostingRegressor\n",
    "\n",
    "import geopy.distance\n"
   ]
  },
  {
   "cell_type": "markdown",
   "metadata": {},
   "source": [
    "# 크롤링 코드"
   ]
  },
  {
   "cell_type": "code",
   "execution_count": null,
   "metadata": {},
   "outputs": [],
   "source": [
    "browser = wd.Chrome(\"../../software/chromedriver.exe\")\n",
    "browser.get(\"https://www.airport.co.kr/jeju/extra/flightSchedule/flightDomesticList/layOut.do?cid=2015120718125215729&menuId=653\")\n",
    "\n",
    "element = browser.find_element_by_xpath('//*[@id=\"selType\"]')\n",
    "element.click()\n",
    "\n",
    "element = browser.find_element_by_xpath('//*[@id=\"selType\"]/option[2]')\n",
    "element.click()\n",
    "\n",
    "element = browser.find_element_by_xpath('//*[@id=\"findDate\"]')\n",
    "element.clear()\n",
    "element.send_keys(\"2019-10-27\")\n",
    "\n",
    "element = browser.find_element_by_xpath('//*[@id=\"customer_container\"]/div[2]/form/div/div[2]/button')\n",
    "element.click()\n",
    "\n",
    "air_head = []\n",
    "\n",
    "element = browser.find_element_by_xpath('//*[@id=\"customer_container\"]/div[3]/table/thead')\n",
    "\n",
    "for i in range(1, 264):\n",
    "    temp = []\n",
    "    for j in range(1, 9):  \n",
    "        element = browser.find_element_by_xpath('//*[@id=\"customer_container\"]/div[3]/table/tbody[1]/tr[{0}]/td[{1}]'.format(i, j))\n",
    "        temp.append(element.text)\n",
    "    air_content.append(temp)\n",
    "    \n",
    "for i in range(1, 272):\n",
    "    temp = []\n",
    "    for j in range(1, 9):  \n",
    "        element = browser.find_element_by_xpath('//*[@id=\"customer_container\"]/div[4]/table/tbody[1]/tr[{0}]/td[{1}]'.format(i, j))\n",
    "        temp.append(element.text)\n",
    "    air_content.append(temp)\n",
    "    \n",
    "test = pd.DataFrame(data = air_content, columns = air_head)\n",
    "\n",
    "test[\"제주 관련 시간\"] = 0\n",
    "test[\"제주 시간 관련\"] = 0\n",
    "\n",
    "for i in range(len(test)):\n",
    "    if test[\"출발지\"][i] == \"제주\":\n",
    "        test[\"제주 관련 시간\"][i] = test[\"출발시간\"][i]\n",
    "    else:\n",
    "        test[\"제주 관련 시간\"][i] = test[\"도착시간\"][i]\n",
    "        \n",
    "test.drop(\"편명\", axis = 1, inplace = True)\n",
    "\n",
    "test.to_csv(\"../data/result_air.csv\")"
   ]
  },
  {
   "cell_type": "markdown",
   "metadata": {},
   "source": [
    "# 데이터 불러오기"
   ]
  },
  {
   "cell_type": "code",
   "execution_count": 2,
   "metadata": {},
   "outputs": [],
   "source": [
    "# 데이터 불러오기\n",
    "bus_df = pd.read_csv(\"bus_train_data.csv\")\n",
    "weather_df = pd.read_csv(\"jeju_weather.csv\")\n",
    "air_df = pd.read_csv(\"result_air.csv\")"
   ]
  },
  {
   "cell_type": "code",
   "execution_count": 3,
   "metadata": {},
   "outputs": [],
   "source": [
    "weather_df[\"date\"] = \"date\""
   ]
  },
  {
   "cell_type": "code",
   "execution_count": 4,
   "metadata": {
    "scrolled": true
   },
   "outputs": [],
   "source": [
    "for i in range(len(weather_df[\"date_group\"])):\n",
    "    weather_df[\"date\"][i] = weather_df[\"date_group\"][i].replace(\"일\", \"\")\n",
    "    weather_df[\"date\"][i] = \"2019-10-{0}\".format(weather_df[\"date\"][i])\n",
    "    \n",
    "weather_df = weather_df.rename(columns = {\"time_group\" : \"now_arrive_time\"})\n",
    "weather_df = weather_df.drop(weather_df.columns[[0,2,5,7,8,9,10,11]],  axis = 1)\n",
    "\n",
    "bus_weather_df = pd.merge(bus_df, weather_df)"
   ]
  },
  {
   "cell_type": "code",
   "execution_count": 5,
   "metadata": {},
   "outputs": [],
   "source": [
    "temp = air_df.groupby([\"날짜\", \"시간\"]).count()\n",
    "temp = pd.DataFrame(temp[\"항공사\"].unstack())\n",
    "\n",
    "data_list = []\n",
    "\n",
    "for i in range(len(temp.index)):\n",
    "    for j in range(len(temp.columns)):\n",
    "        data_list.append([temp.index[i],temp.columns[j], temp.iloc[i][j]])\n",
    "        \n",
    "air_df = pd.DataFrame(data_list)\n",
    "\n",
    "air_df.columns = [\"date\", \"now_arrive_time\", \"count_air\"]\n",
    "\n",
    "df = pd.merge(bus_weather_df, air_df)\n",
    "\n",
    "train = df"
   ]
  },
  {
   "cell_type": "markdown",
   "metadata": {},
   "source": [
    "# 데이터 전처리"
   ]
  },
  {
   "cell_type": "code",
   "execution_count": 6,
   "metadata": {},
   "outputs": [],
   "source": [
    "# 날짜 전처리\n",
    "train['date_group']='weekday' #date_group 변수를 미리 생성\n",
    "\n",
    "train.loc[ (train['date'] == '2019-10-19') | (train['date'] == '2019-10-20') | (train['date'] == '2019-10-26') | (train['date'] == '2019-10-27') ,['date_group'] ]= 'weekend' # 주말\n",
    "train = pd.get_dummies(train,columns=['date_group'])\n",
    "\n",
    "# 19, 20, 26, 27"
   ]
  },
  {
   "cell_type": "code",
   "execution_count": 7,
   "metadata": {},
   "outputs": [],
   "source": [
    "train[\"date_day\"] = \"monday\"\n",
    "train.loc[(train[\"date\"] == \"2019-10-15\") | (train[\"date\"] == \"2019-10-22\"), [\"date_day\"]] = \"Tuesday\"\n",
    "train.loc[(train[\"date\"] == \"2019-10-16\") | (train[\"date\"] == \"2019-10-23\"), [\"date_day\"]] = \"Wednesday\"\n",
    "train.loc[(train[\"date\"] == \"2019-10-17\") | (train[\"date\"] == \"2019-10-24\"), [\"date_day\"]] = \"Thurday\"\n",
    "train.loc[(train[\"date\"] == \"2019-10-18\") | (train[\"date\"] == \"2019-10-25\"), [\"date_day\"]] = \"Friday\"\n",
    "train.loc[(train[\"date\"] == \"2019-10-19\") | (train[\"date\"] == \"2019-10-26\"), [\"date_day\"]] = \"Saturday\"\n",
    "train.loc[(train[\"date\"] == \"2019-10-20\") | (train[\"date\"] == \"2019-10-27\"), [\"date_day\"]] = \"Sunday\"\n",
    "\n",
    "train = pd.get_dummies(train, columns=[\"date_day\"])"
   ]
  },
  {
   "cell_type": "code",
   "execution_count": 8,
   "metadata": {},
   "outputs": [],
   "source": [
    "# 강수량 전처리\n",
    "train['rain']=0\n",
    "train.loc[ (train['누적강수량(mm)']!=0) ,['rain'] ] = 1"
   ]
  },
  {
   "cell_type": "code",
   "execution_count": 9,
   "metadata": {},
   "outputs": [],
   "source": [
    "# 시간 전처리\n",
    "train['time_group']='group' #time_group 변수를 미리 생성\n",
    "\n",
    "train.loc[ (train['now_arrive_time']>='05시') & (train['now_arrive_time']<='06시') ,['time_group'] ]= 'dawn' # 05~06시\n",
    "train.loc[ (train['now_arrive_time']>='07시') & (train['now_arrive_time']<='08시') ,['time_group'] ]= 'morning' #07~08시\n",
    "train.loc[ (train['now_arrive_time']>='09시') & (train['now_arrive_time']<='17시') ,['time_group'] ]= 'afternoon' #09~17시\n",
    "train.loc[ (train['now_arrive_time']=='18시') ,['time_group'] ]= 'dinner' #18시\n",
    "train.loc[ (train['now_arrive_time']>='19시') & (train['now_arrive_time']<='22시') ,['time_group'] ]= 'night' #09~17시\n",
    "\n",
    "train = pd.get_dummies(train,columns=['time_group'])"
   ]
  },
  {
   "cell_type": "code",
   "execution_count": 10,
   "metadata": {},
   "outputs": [],
   "source": [
    "# 풍속\n",
    "w = pd.DataFrame(train['풍속(m/s)'].groupby([train['date'],train['now_arrive_time']]).mean())\n",
    "train['wind'] = 0\n",
    "train.loc[(train['풍속(m/s)'] > w.mean()[0]) ,['wind']] = 1"
   ]
  },
  {
   "cell_type": "code",
   "execution_count": 11,
   "metadata": {},
   "outputs": [],
   "source": [
    "temp_list = []\n",
    "train = train.drop(train[train[\"distance\"] > 1000].index)\n",
    "max = train.distance.max()\n",
    "min = train.distance.min()\n",
    "\n",
    "for i in train.distance:\n",
    "    temp_list.append((i - min) / (max - min))\n",
    "train.distance = temp_list"
   ]
  },
  {
   "cell_type": "code",
   "execution_count": 12,
   "metadata": {},
   "outputs": [],
   "source": [
    "temp_list = []\n",
    "\n",
    "max = train.count_air.max()\n",
    "min = train.count_air.min()\n",
    "\n",
    "for i in train.count_air:\n",
    "    temp_list.append((i - min) / (max - min))\n",
    "train.count_air = temp_list"
   ]
  },
  {
   "cell_type": "code",
   "execution_count": null,
   "metadata": {},
   "outputs": [],
   "source": []
  },
  {
   "cell_type": "code",
   "execution_count": 13,
   "metadata": {},
   "outputs": [],
   "source": [
    "train = train.drop(train[[\"누적강수량(mm)\", \"풍속(m/s)\"]], axis = \"columns\")"
   ]
  },
  {
   "cell_type": "code",
   "execution_count": 14,
   "metadata": {},
   "outputs": [],
   "source": [
    "train['distance_line']=[ geopy.distance.vincenty( (i,j), (k,l) ).km \n",
    " for i,j,k,l in list( zip( train['now_latitude'],train['now_longitude'],train['next_latitude'],train['next_longitude'] ) ) ]"
   ]
  },
  {
   "cell_type": "code",
   "execution_count": 15,
   "metadata": {
    "scrolled": true
   },
   "outputs": [
    {
     "data": {
      "text/plain": [
       "1"
      ]
     },
     "execution_count": 15,
     "metadata": {},
     "output_type": "execute_result"
    }
   ],
   "source": [
    "train.wind.max()"
   ]
  },
  {
   "cell_type": "markdown",
   "metadata": {},
   "source": [
    "# 데이터 학습 및 예측"
   ]
  },
  {
   "cell_type": "code",
   "execution_count": 16,
   "metadata": {},
   "outputs": [],
   "source": [
    "train_x = train.drop(train[[\"id\", \"date\",\"route_id\", \"vh_id\", \"route_nm\", \"now_latitude\", \"now_longitude\", \"now_station\", \"now_arrive_time\", \"next_station\", \"next_arrive_time\", \"next_latitude\", \"next_longitude\", \"기온(°C)\", \"wind\"]], axis = \"columns\")\n",
    "train_y = train.next_arrive_time"
   ]
  },
  {
   "cell_type": "code",
   "execution_count": 17,
   "metadata": {},
   "outputs": [],
   "source": [
    "X_train, X_test, y_train, y_test = train_test_split(train_x, train_y, test_size=0.2, random_state=42)"
   ]
  },
  {
   "cell_type": "code",
   "execution_count": 18,
   "metadata": {
    "scrolled": true
   },
   "outputs": [
    {
     "name": "stdout",
     "output_type": "stream",
     "text": [
      "66.98473074500437\n"
     ]
    }
   ],
   "source": [
    "rf = RandomForestRegressor(random_state=1217)\n",
    "rf.fit(X_train,y_train)\n",
    "result = 0\n",
    "predict = rf.predict(X_test)\n",
    "print((mean_squared_error(predict, y_test))**0.5)"
   ]
  },
  {
   "cell_type": "code",
   "execution_count": 19,
   "metadata": {},
   "outputs": [
    {
     "data": {
      "image/png": "[encoded data removed]",
      "text/plain": [
       "<Figure size 432x288 with 1 Axes>"
      ]
     },
     "metadata": {
      "needs_background": "light"
     },
     "output_type": "display_data"
    }
   ],
   "source": [
    "n_feature = train_x.shape[1] #주어진 변수들의 갯수를 구함\n",
    "index = np.arange(n_feature)\n",
    "\n",
    "input_var= list( train_x.columns[:] )\n",
    "plt.barh(index, rf.feature_importances_, align='center') \n",
    "plt.yticks(index, input_var)\n",
    "plt.ylim(-1, n_feature)\n",
    "plt.xlabel('feature importance', size=15)\n",
    "plt.ylabel('feature', size=15)\n",
    "plt.show()"
   ]
  },
  {
   "cell_type": "code",
   "execution_count": null,
   "metadata": {},
   "outputs": [],
   "source": [
    "gbrt = GradientBoostingRegressor(max_depth=2, n_estimators=200, learning_rate=1, random_state=42)\n",
    "gbrt.fit(X_train, y_train)\n",
    "predict = gbrt.predict(X_test)\n",
    "(mean_squared_error(predict, y_test))**0.5\n",
    "\n",
    "errors = [mean_squared_error(y_val, y_pred)\n",
    "          for y_pred in gbrt.staged_predict(X_val)]\n",
    "bst_n_estimators = np.argmin(errors)"
   ]
  },
  {
   "cell_type": "code",
   "execution_count": 288,
   "metadata": {},
   "outputs": [
    {
     "name": "stdout",
     "output_type": "stream",
     "text": [
      "5712.598861632101\n",
      "5561.901746605243\n",
      "5438.69836722727\n",
      "5377.312667756765\n",
      "5284.136611105768\n",
      "5207.464338270951\n",
      "5143.9662411727395\n",
      "5091.579466077541\n",
      "5053.099732058383\n",
      "5013.648939256856\n",
      "4983.910474360536\n",
      "4930.149831691636\n",
      "4908.385406720542\n",
      "4879.523013952372\n",
      "4851.025504650254\n",
      "4830.712684863172\n",
      "4817.35458995692\n",
      "4793.0383116178755\n",
      "4785.147832505571\n",
      "4749.641149604336\n",
      "4736.737743512739\n",
      "4721.8501018761235\n",
      "4716.963810784361\n",
      "4690.276413032777\n",
      "4680.319028586127\n",
      "4674.41749766927\n",
      "4665.35358158186\n",
      "4662.234239185987\n",
      "4651.1832638389\n",
      "4624.770266971867\n",
      "4619.983696439359\n",
      "4616.761500230418\n",
      "4608.327700168812\n",
      "4600.662223431135\n",
      "4596.457633757522\n",
      "4589.691277814233\n",
      "4582.191482074977\n",
      "4580.343058780675\n",
      "4575.0952121759865\n",
      "4553.039559140931\n",
      "4547.282501457936\n",
      "4543.820974082917\n",
      "4535.590607820113\n",
      "4533.6449864848155\n",
      "4532.426324008834\n",
      "4515.18341353777\n",
      "4510.877034296455\n",
      "4505.431388473866\n",
      "4504.415566163392\n",
      "4492.6526434704565\n",
      "4484.394087062259\n",
      "4474.677449883196\n",
      "4467.428516564593\n",
      "4462.9854586906695\n",
      "4462.1440267735115\n",
      "4454.707106896806\n",
      "4446.88042298868\n",
      "4442.038996890873\n",
      "4439.417687992739\n",
      "4432.923892821435\n",
      "4422.08459905796\n",
      "4415.51387082607\n",
      "4414.569582314186\n",
      "4411.093498049081\n",
      "4404.114095146275\n",
      "4397.790165161813\n",
      "4395.737592184733\n",
      "4393.77637447887\n",
      "4388.9607545022645\n",
      "4383.4743238682995\n",
      "4378.455119443906\n",
      "4370.456996115346\n",
      "4363.66155982454\n",
      "4357.211657792382\n",
      "4356.058360870799\n",
      "4353.1030337192105\n",
      "4355.435426852457\n",
      "4350.16439343422\n",
      "4348.702351370007\n",
      "4346.757006461993\n",
      "4341.965515452196\n",
      "4338.409585752985\n",
      "4332.293413285106\n",
      "4327.874635097104\n",
      "4324.619673308206\n",
      "4322.300683075428\n",
      "4317.395664274383\n",
      "4315.524785936807\n",
      "4313.569496507621\n",
      "4309.267727304149\n",
      "4308.158798141756\n",
      "4304.5067855344105\n",
      "4300.942218145893\n",
      "4299.204106067436\n",
      "4297.7524696908595\n",
      "4293.647583312921\n",
      "4292.570286606466\n",
      "4289.117324854647\n",
      "4292.4975305700955\n",
      "4289.62009912134\n",
      "4283.3313668017845\n",
      "4280.274598271453\n",
      "4278.8002984373425\n",
      "4274.872615528998\n",
      "4268.987651526005\n",
      "4267.748054865758\n",
      "4263.347710718304\n",
      "4258.546224282058\n",
      "4253.67838086167\n",
      "4248.914130934573\n",
      "4245.83698661158\n",
      "4240.0083380750475\n",
      "4238.9006334820915\n",
      "4234.148147669155\n",
      "4233.582062747112\n",
      "4230.773858077053\n",
      "4226.7928756685205\n",
      "4223.287639209529\n",
      "4219.63791847473\n",
      "4218.269512125848\n",
      "4217.764296644409\n",
      "4216.31947374814\n",
      "4211.035885442208\n",
      "4208.956626175657\n",
      "4205.183739933848\n",
      "4201.414136537876\n",
      "4201.264733452315\n",
      "4198.319386881693\n",
      "4194.530208291045\n",
      "4192.786770949994\n",
      "4189.479099800836\n",
      "4184.858216970404\n",
      "4181.923447462873\n",
      "4180.796992596708\n",
      "4178.396809252436\n",
      "4175.812522509855\n",
      "4174.93558333583\n",
      "4174.531817622981\n",
      "4172.46286578739\n",
      "4169.669761250348\n",
      "4167.206290405202\n",
      "4164.011018511183\n",
      "4163.30768354244\n",
      "4161.03799601933\n",
      "4157.085630109961\n",
      "4154.9150626078235\n",
      "4152.803546471856\n",
      "4151.516921752865\n",
      "4150.057170928806\n",
      "4149.714165374931\n",
      "4148.124712979182\n",
      "4144.72247757249\n",
      "4143.35961004446\n",
      "4142.88608489104\n",
      "4142.516722720681\n",
      "4141.1222666586345\n",
      "4138.441573173044\n",
      "4136.825758356671\n",
      "4134.483612249101\n",
      "4132.066953414357\n",
      "4130.159358943243\n",
      "4127.693867304616\n",
      "4125.982855345982\n",
      "4124.48517617737\n",
      "4122.1331070908755\n",
      "4121.4943527542\n",
      "4121.060670255855\n",
      "4118.403172949568\n",
      "4117.471311827616\n",
      "4116.85641405858\n",
      "4114.259125759137\n",
      "4113.076673088041\n",
      "4110.887123633938\n",
      "4109.565998438349\n",
      "4103.037031690093\n",
      "4101.82175235989\n",
      "4099.568582047898\n",
      "4098.840129048165\n",
      "4097.217711634482\n",
      "4095.301554250577\n",
      "4093.738140522754\n",
      "4092.2350532495843\n",
      "4092.0293649800183\n",
      "4089.1832271579387\n",
      "4088.6185109446415\n",
      "4087.0100423377003\n",
      "4081.578836344967\n",
      "4079.661842144775\n",
      "4078.1436205203536\n",
      "4077.8708116906605\n",
      "4076.2969920723035\n",
      "4075.2173096323563\n",
      "4072.7402742282325\n",
      "4072.54136501268\n",
      "4069.959152920601\n",
      "4068.347256821431\n",
      "4067.506048344886\n",
      "4066.26742600156\n",
      "4064.783991638958\n",
      "4064.2198587329235\n",
      "4063.251670276023\n",
      "4062.443399366222\n",
      "4061.1901183212863\n",
      "4058.361090331137\n",
      "4057.002403467741\n",
      "4054.263953490423\n",
      "4053.305010612315\n",
      "4052.577429782379\n",
      "4052.045798222838\n",
      "4049.6384455361795\n",
      "4045.9550656544434\n",
      "4043.697928623056\n",
      "4042.5877792333213\n",
      "4040.8828263509677\n",
      "4040.2550099246723\n",
      "4039.3771868035474\n",
      "4038.105372508454\n",
      "4036.1970923858325\n",
      "4034.229019115369\n",
      "4033.9091489622892\n",
      "4032.1521842515795\n",
      "4031.368391262942\n",
      "4030.5352148466595\n",
      "4030.585892391999\n",
      "4030.4786924850323\n",
      "4028.879454077773\n",
      "4027.068599622882\n",
      "4025.4032505584128\n",
      "4024.492816892558\n",
      "4023.4736877385285\n",
      "4021.8078592019256\n",
      "4021.424631045451\n",
      "4019.731242168346\n",
      "4018.4680379444635\n",
      "4018.634638596023\n",
      "4016.959413200085\n",
      "4020.734262481469\n",
      "4019.8730530022262\n",
      "4018.8565437312427\n",
      "4017.9061891385486\n",
      "4018.2509591929984\n"
     ]
    }
   ],
   "source": [
    "gbrt = GradientBoostingRegressor(max_depth=3, warm_start=True, random_state=42)\n",
    "\n",
    "min_val_error = float(\"inf\")\n",
    "error_going_up = 0\n",
    "for n_estimators in range(1, 300):\n",
    "    gbrt.n_estimators = n_estimators\n",
    "    gbrt.fit(X_train, y_train)\n",
    "    y_pred = gbrt.predict(X_test)\n",
    "    val_error = mean_squared_error(y_test, y_pred)\n",
    "    print(val_error)\n",
    "    if val_error < min_val_error:\n",
    "        min_val_error = val_error\n",
    "        error_going_up = 0\n",
    "    else:\n",
    "        error_going_up += 1\n",
    "        if error_going_up == 5:\n",
    "            break  # 조기 종료"
   ]
  },
  {
   "cell_type": "code",
   "execution_count": 287,
   "metadata": {},
   "outputs": [
    {
     "name": "stdout",
     "output_type": "stream",
     "text": [
      "63.38967549367167\n"
     ]
    }
   ],
   "source": []
  },
  {
   "cell_type": "code",
   "execution_count": null,
   "metadata": {},
   "outputs": [],
   "source": []
  },
  {
   "cell_type": "code",
   "execution_count": null,
   "metadata": {},
   "outputs": [],
   "source": []
  },
  {
   "cell_type": "code",
   "execution_count": null,
   "metadata": {},
   "outputs": [],
   "source": []
  },
  {
   "cell_type": "code",
   "execution_count": null,
   "metadata": {},
   "outputs": [],
   "source": []
  }
 ],
 "metadata": {
  "kernelspec": {
   "display_name": "Python 3",
   "language": "python",
   "name": "python3"
  },
  "language_info": {
   "codemirror_mode": {
    "name": "ipython",
    "version": 3
   },
   "file_extension": ".py",
   "mimetype": "text/x-python",
   "name": "python",
   "nbconvert_exporter": "python",
   "pygments_lexer": "ipython3",
   "version": "3.7.3"
  }
 },
 "nbformat": 4,
 "nbformat_minor": 2
}
